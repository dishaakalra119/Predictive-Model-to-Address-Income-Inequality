{
 "cells": [
  {
   "cell_type": "markdown",
   "metadata": {
    "id": "NIAFttjalGSd"
   },
   "source": [
    "#Objective: Prediction task is to determine whether a person makes over 50K a year."
   ]
  },
  {
   "cell_type": "markdown",
   "metadata": {
    "id": "9V3Wan3zlLE9"
   },
   "source": [
    "**Adult Income DataSet Description**\n",
    "*****************************************************\n",
    "**A). Number of Instances :-**\n",
    "   48842 instances, mix of continuous and discrete\n",
    "*****************************************************\n",
    "\n",
    "**B). Number of Attributes :-**\n",
    "   6 continuous, 8 nominal attributes.\n",
    "*****************************************************\n",
    "\n",
    "**C). Attribute Information:**\n",
    "\n",
    "    1) age: continuous.\n",
    "    2) workclass: Private, Self-emp-not-inc, Self-emp-inc, Federal-gov, Local-gov, State-gov, Without-pay, Never-worked.\n",
    "    3) fnlwgt: continuous.\n",
    "    4) education: Bachelors, Some-college, 11th, HS-grad, Prof-school, Assoc-acdm, Assoc-voc, 9th, 7th-8th, 12th, Masters, 1st-4th, 10th, Doctorate, 5th-6th, Preschool.\n",
    "    5) education-num: continuous.\n",
    "    6) marital-status: Married-civ-spouse, Divorced, Never-married, Separated, Widowed, Married-spouse-absent, Married-AF-spouse.\n",
    "    7) occupation: Tech-support, Craft-repair, Other-service, Sales, Exec-managerial, Prof-specialty, Handlers-cleaners, Machine-op-inspct, Adm-clerical, Farming-fishing, Transport-moving, Priv-house-serv, Protective-serv, Armed-Forces.\n",
    "    8) relationship: Wife, Own-child, Husband, Not-in-family, Other-relative, Unmarried.\n",
    "    9) race: White, Asian-Pac-Islander, Amer-Indian-Eskimo, Other, Black.\n",
    "    10)sex: Female, Male.\n",
    "    11)capital-gain: continuous.\n",
    "    12)capital-loss: continuous.\n",
    "    13)hours-per-week: continuous.\n",
    "    14)native-country: United-States, Cambodia, England, Puerto-Rico, Canada, Germany, Outlying-US(Guam-USVI-etc), India, Japan, Greece, South, China, Cuba, Iran, Honduras, Philippines, Italy, Poland, Jamaica, Vietnam, Mexico, Portugal, Ireland, France, Dominican-Republic, Laos, Ecuador, Taiwan, Haiti, Columbia, Hungary, Guatemala, Nicaragua, Scotland, Thailand, Yugoslavia, El-Salvador, Trinadad&Tobago, Peru, Hong, Holand-Netherlands.\n",
    "    15)class: >50K, <=50K\n",
    "\n",
    "*****************************************************\n",
    "**D. Missing Attribute Values:**\n",
    "   7% have missing values\n"
   ]
  },
  {
   "cell_type": "markdown",
   "metadata": {
    "id": "jiNhsbPSl13O"
   },
   "source": [
    "#Step-1 : Import the required libraries"
   ]
  },
  {
   "cell_type": "code",
   "execution_count": 1,
   "metadata": {
    "id": "MR9HhJLMLu14"
   },
   "outputs": [],
   "source": [
    "import pandas as pd\n",
    "import numpy as np\n",
    "import matplotlib.pyplot as plt\n",
    "import seaborn as sns\n",
    "from sklearn.preprocessing import LabelEncoder,MinMaxScaler\n",
    "from sklearn.model_selection import train_test_split\n",
    "from sklearn.metrics import accuracy_score,confusion_matrix\n",
    "from sklearn.tree import DecisionTreeClassifier\n",
    "from sklearn.linear_model import  LogisticRegression\n",
    "from sklearn.neighbors import KNeighborsClassifier\n",
    "from sklearn.ensemble import RandomForestClassifier\n",
    "from sklearn.svm import SVC"
   ]
  },
  {
   "cell_type": "markdown",
   "metadata": {
    "id": "E8lkGHMumETc"
   },
   "source": [
    "#Step-2: Read the adult income dataset"
   ]
  },
  {
   "cell_type": "code",
   "execution_count": 2,
   "metadata": {
    "id": "o5zzUSp5Mhuw"
   },
   "outputs": [],
   "source": [
    "data=pd.read_csv(\"adult_income_dataset.csv\")"
   ]
  },
  {
   "cell_type": "markdown",
   "metadata": {
    "id": "knOtQxmvmcll"
   },
   "source": [
    "#Step-3: Exploratory Data Analytics"
   ]
  },
  {
   "cell_type": "code",
   "execution_count": 3,
   "metadata": {
    "colab": {
     "base_uri": "https://localhost:8080/"
    },
    "id": "VvbvSCicmORs",
    "outputId": "3429c6cb-f663-4885-fa90-00e040be8988"
   },
   "outputs": [
    {
     "name": "stdout",
     "output_type": "stream",
     "text": [
      "data.shape =  (48842, 15)\n"
     ]
    }
   ],
   "source": [
    "print(\"data.shape = \", data.shape)"
   ]
  },
  {
   "cell_type": "code",
   "execution_count": 4,
   "metadata": {
    "id": "QXK-vZSWmjSG"
   },
   "outputs": [
    {
     "name": "stdout",
     "output_type": "stream",
     "text": [
      "<class 'pandas.core.frame.DataFrame'>\n",
      "RangeIndex: 48842 entries, 0 to 48841\n",
      "Data columns (total 15 columns):\n",
      " #   Column           Non-Null Count  Dtype \n",
      "---  ------           --------------  ----- \n",
      " 0   age              48842 non-null  int64 \n",
      " 1   workclass        48842 non-null  object\n",
      " 2   fnlwgt           48842 non-null  int64 \n",
      " 3   education        48842 non-null  object\n",
      " 4   educational-num  48842 non-null  int64 \n",
      " 5   marital-status   48842 non-null  object\n",
      " 6   occupation       48842 non-null  object\n",
      " 7   relationship     48842 non-null  object\n",
      " 8   race             48842 non-null  object\n",
      " 9   gender           48842 non-null  object\n",
      " 10  capital-gain     48842 non-null  int64 \n",
      " 11  capital-loss     48842 non-null  int64 \n",
      " 12  hours-per-week   48842 non-null  int64 \n",
      " 13  native-country   48842 non-null  object\n",
      " 14  income           48842 non-null  object\n",
      "dtypes: int64(6), object(9)\n",
      "memory usage: 5.6+ MB\n",
      "Info about dataset\n",
      " None\n"
     ]
    }
   ],
   "source": [
    "print(\"Info about dataset\\n\", data.info() )"
   ]
  },
  {
   "cell_type": "code",
   "execution_count": 5,
   "metadata": {
    "id": "D1o1zZCfmpEs"
   },
   "outputs": [
    {
     "name": "stdout",
     "output_type": "stream",
     "text": [
      "First 10 rows : \n",
      "\n"
     ]
    },
    {
     "data": {
      "text/html": [
       "<div>\n",
       "<style scoped>\n",
       "    .dataframe tbody tr th:only-of-type {\n",
       "        vertical-align: middle;\n",
       "    }\n",
       "\n",
       "    .dataframe tbody tr th {\n",
       "        vertical-align: top;\n",
       "    }\n",
       "\n",
       "    .dataframe thead th {\n",
       "        text-align: right;\n",
       "    }\n",
       "</style>\n",
       "<table border=\"1\" class=\"dataframe\">\n",
       "  <thead>\n",
       "    <tr style=\"text-align: right;\">\n",
       "      <th></th>\n",
       "      <th>age</th>\n",
       "      <th>workclass</th>\n",
       "      <th>fnlwgt</th>\n",
       "      <th>education</th>\n",
       "      <th>educational-num</th>\n",
       "      <th>marital-status</th>\n",
       "      <th>occupation</th>\n",
       "      <th>relationship</th>\n",
       "      <th>race</th>\n",
       "      <th>gender</th>\n",
       "      <th>capital-gain</th>\n",
       "      <th>capital-loss</th>\n",
       "      <th>hours-per-week</th>\n",
       "      <th>native-country</th>\n",
       "      <th>income</th>\n",
       "    </tr>\n",
       "  </thead>\n",
       "  <tbody>\n",
       "    <tr>\n",
       "      <th>0</th>\n",
       "      <td>25</td>\n",
       "      <td>Private</td>\n",
       "      <td>226802</td>\n",
       "      <td>11th</td>\n",
       "      <td>7</td>\n",
       "      <td>Never-married</td>\n",
       "      <td>Machine-op-inspct</td>\n",
       "      <td>Own-child</td>\n",
       "      <td>Black</td>\n",
       "      <td>Male</td>\n",
       "      <td>0</td>\n",
       "      <td>0</td>\n",
       "      <td>40</td>\n",
       "      <td>United-States</td>\n",
       "      <td>&lt;=50K</td>\n",
       "    </tr>\n",
       "    <tr>\n",
       "      <th>1</th>\n",
       "      <td>38</td>\n",
       "      <td>Private</td>\n",
       "      <td>89814</td>\n",
       "      <td>HS-grad</td>\n",
       "      <td>9</td>\n",
       "      <td>Married-civ-spouse</td>\n",
       "      <td>Farming-fishing</td>\n",
       "      <td>Husband</td>\n",
       "      <td>White</td>\n",
       "      <td>Male</td>\n",
       "      <td>0</td>\n",
       "      <td>0</td>\n",
       "      <td>50</td>\n",
       "      <td>United-States</td>\n",
       "      <td>&lt;=50K</td>\n",
       "    </tr>\n",
       "    <tr>\n",
       "      <th>2</th>\n",
       "      <td>28</td>\n",
       "      <td>Local-gov</td>\n",
       "      <td>336951</td>\n",
       "      <td>Assoc-acdm</td>\n",
       "      <td>12</td>\n",
       "      <td>Married-civ-spouse</td>\n",
       "      <td>Protective-serv</td>\n",
       "      <td>Husband</td>\n",
       "      <td>White</td>\n",
       "      <td>Male</td>\n",
       "      <td>0</td>\n",
       "      <td>0</td>\n",
       "      <td>40</td>\n",
       "      <td>United-States</td>\n",
       "      <td>&gt;50K</td>\n",
       "    </tr>\n",
       "    <tr>\n",
       "      <th>3</th>\n",
       "      <td>44</td>\n",
       "      <td>Private</td>\n",
       "      <td>160323</td>\n",
       "      <td>Some-college</td>\n",
       "      <td>10</td>\n",
       "      <td>Married-civ-spouse</td>\n",
       "      <td>Machine-op-inspct</td>\n",
       "      <td>Husband</td>\n",
       "      <td>Black</td>\n",
       "      <td>Male</td>\n",
       "      <td>7688</td>\n",
       "      <td>0</td>\n",
       "      <td>40</td>\n",
       "      <td>United-States</td>\n",
       "      <td>&gt;50K</td>\n",
       "    </tr>\n",
       "    <tr>\n",
       "      <th>4</th>\n",
       "      <td>18</td>\n",
       "      <td>?</td>\n",
       "      <td>103497</td>\n",
       "      <td>Some-college</td>\n",
       "      <td>10</td>\n",
       "      <td>Never-married</td>\n",
       "      <td>?</td>\n",
       "      <td>Own-child</td>\n",
       "      <td>White</td>\n",
       "      <td>Female</td>\n",
       "      <td>0</td>\n",
       "      <td>0</td>\n",
       "      <td>30</td>\n",
       "      <td>United-States</td>\n",
       "      <td>&lt;=50K</td>\n",
       "    </tr>\n",
       "    <tr>\n",
       "      <th>5</th>\n",
       "      <td>34</td>\n",
       "      <td>Private</td>\n",
       "      <td>198693</td>\n",
       "      <td>10th</td>\n",
       "      <td>6</td>\n",
       "      <td>Never-married</td>\n",
       "      <td>Other-service</td>\n",
       "      <td>Not-in-family</td>\n",
       "      <td>White</td>\n",
       "      <td>Male</td>\n",
       "      <td>0</td>\n",
       "      <td>0</td>\n",
       "      <td>30</td>\n",
       "      <td>United-States</td>\n",
       "      <td>&lt;=50K</td>\n",
       "    </tr>\n",
       "    <tr>\n",
       "      <th>6</th>\n",
       "      <td>29</td>\n",
       "      <td>?</td>\n",
       "      <td>227026</td>\n",
       "      <td>HS-grad</td>\n",
       "      <td>9</td>\n",
       "      <td>Never-married</td>\n",
       "      <td>?</td>\n",
       "      <td>Unmarried</td>\n",
       "      <td>Black</td>\n",
       "      <td>Male</td>\n",
       "      <td>0</td>\n",
       "      <td>0</td>\n",
       "      <td>40</td>\n",
       "      <td>United-States</td>\n",
       "      <td>&lt;=50K</td>\n",
       "    </tr>\n",
       "    <tr>\n",
       "      <th>7</th>\n",
       "      <td>63</td>\n",
       "      <td>Self-emp-not-inc</td>\n",
       "      <td>104626</td>\n",
       "      <td>Prof-school</td>\n",
       "      <td>15</td>\n",
       "      <td>Married-civ-spouse</td>\n",
       "      <td>Prof-specialty</td>\n",
       "      <td>Husband</td>\n",
       "      <td>White</td>\n",
       "      <td>Male</td>\n",
       "      <td>3103</td>\n",
       "      <td>0</td>\n",
       "      <td>32</td>\n",
       "      <td>United-States</td>\n",
       "      <td>&gt;50K</td>\n",
       "    </tr>\n",
       "    <tr>\n",
       "      <th>8</th>\n",
       "      <td>24</td>\n",
       "      <td>Private</td>\n",
       "      <td>369667</td>\n",
       "      <td>Some-college</td>\n",
       "      <td>10</td>\n",
       "      <td>Never-married</td>\n",
       "      <td>Other-service</td>\n",
       "      <td>Unmarried</td>\n",
       "      <td>White</td>\n",
       "      <td>Female</td>\n",
       "      <td>0</td>\n",
       "      <td>0</td>\n",
       "      <td>40</td>\n",
       "      <td>United-States</td>\n",
       "      <td>&lt;=50K</td>\n",
       "    </tr>\n",
       "    <tr>\n",
       "      <th>9</th>\n",
       "      <td>55</td>\n",
       "      <td>Private</td>\n",
       "      <td>104996</td>\n",
       "      <td>7th-8th</td>\n",
       "      <td>4</td>\n",
       "      <td>Married-civ-spouse</td>\n",
       "      <td>Craft-repair</td>\n",
       "      <td>Husband</td>\n",
       "      <td>White</td>\n",
       "      <td>Male</td>\n",
       "      <td>0</td>\n",
       "      <td>0</td>\n",
       "      <td>10</td>\n",
       "      <td>United-States</td>\n",
       "      <td>&lt;=50K</td>\n",
       "    </tr>\n",
       "  </tbody>\n",
       "</table>\n",
       "</div>"
      ],
      "text/plain": [
       "   age         workclass  fnlwgt     education  educational-num  \\\n",
       "0   25           Private  226802          11th                7   \n",
       "1   38           Private   89814       HS-grad                9   \n",
       "2   28         Local-gov  336951    Assoc-acdm               12   \n",
       "3   44           Private  160323  Some-college               10   \n",
       "4   18                 ?  103497  Some-college               10   \n",
       "5   34           Private  198693          10th                6   \n",
       "6   29                 ?  227026       HS-grad                9   \n",
       "7   63  Self-emp-not-inc  104626   Prof-school               15   \n",
       "8   24           Private  369667  Some-college               10   \n",
       "9   55           Private  104996       7th-8th                4   \n",
       "\n",
       "       marital-status         occupation   relationship   race  gender  \\\n",
       "0       Never-married  Machine-op-inspct      Own-child  Black    Male   \n",
       "1  Married-civ-spouse    Farming-fishing        Husband  White    Male   \n",
       "2  Married-civ-spouse    Protective-serv        Husband  White    Male   \n",
       "3  Married-civ-spouse  Machine-op-inspct        Husband  Black    Male   \n",
       "4       Never-married                  ?      Own-child  White  Female   \n",
       "5       Never-married      Other-service  Not-in-family  White    Male   \n",
       "6       Never-married                  ?      Unmarried  Black    Male   \n",
       "7  Married-civ-spouse     Prof-specialty        Husband  White    Male   \n",
       "8       Never-married      Other-service      Unmarried  White  Female   \n",
       "9  Married-civ-spouse       Craft-repair        Husband  White    Male   \n",
       "\n",
       "   capital-gain  capital-loss  hours-per-week native-country income  \n",
       "0             0             0              40  United-States  <=50K  \n",
       "1             0             0              50  United-States  <=50K  \n",
       "2             0             0              40  United-States   >50K  \n",
       "3          7688             0              40  United-States   >50K  \n",
       "4             0             0              30  United-States  <=50K  \n",
       "5             0             0              30  United-States  <=50K  \n",
       "6             0             0              40  United-States  <=50K  \n",
       "7          3103             0              32  United-States   >50K  \n",
       "8             0             0              40  United-States  <=50K  \n",
       "9             0             0              10  United-States  <=50K  "
      ]
     },
     "execution_count": 5,
     "metadata": {},
     "output_type": "execute_result"
    }
   ],
   "source": [
    "#print first 10 rows of dataset\n",
    "print(\"First 10 rows : \\n\")\n",
    "data.head(10)"
   ]
  },
  {
   "cell_type": "code",
   "execution_count": 6,
   "metadata": {
    "id": "yu7CEzN1msQs"
   },
   "outputs": [
    {
     "name": "stdout",
     "output_type": "stream",
     "text": [
      "data.describe() = \n",
      "\n"
     ]
    },
    {
     "data": {
      "text/html": [
       "<div>\n",
       "<style scoped>\n",
       "    .dataframe tbody tr th:only-of-type {\n",
       "        vertical-align: middle;\n",
       "    }\n",
       "\n",
       "    .dataframe tbody tr th {\n",
       "        vertical-align: top;\n",
       "    }\n",
       "\n",
       "    .dataframe thead th {\n",
       "        text-align: right;\n",
       "    }\n",
       "</style>\n",
       "<table border=\"1\" class=\"dataframe\">\n",
       "  <thead>\n",
       "    <tr style=\"text-align: right;\">\n",
       "      <th></th>\n",
       "      <th>age</th>\n",
       "      <th>fnlwgt</th>\n",
       "      <th>educational-num</th>\n",
       "      <th>capital-gain</th>\n",
       "      <th>capital-loss</th>\n",
       "      <th>hours-per-week</th>\n",
       "    </tr>\n",
       "  </thead>\n",
       "  <tbody>\n",
       "    <tr>\n",
       "      <th>count</th>\n",
       "      <td>48842.000000</td>\n",
       "      <td>4.884200e+04</td>\n",
       "      <td>48842.000000</td>\n",
       "      <td>48842.000000</td>\n",
       "      <td>48842.000000</td>\n",
       "      <td>48842.000000</td>\n",
       "    </tr>\n",
       "    <tr>\n",
       "      <th>mean</th>\n",
       "      <td>38.643585</td>\n",
       "      <td>1.896641e+05</td>\n",
       "      <td>10.078089</td>\n",
       "      <td>1079.067626</td>\n",
       "      <td>87.502314</td>\n",
       "      <td>40.422382</td>\n",
       "    </tr>\n",
       "    <tr>\n",
       "      <th>std</th>\n",
       "      <td>13.710510</td>\n",
       "      <td>1.056040e+05</td>\n",
       "      <td>2.570973</td>\n",
       "      <td>7452.019058</td>\n",
       "      <td>403.004552</td>\n",
       "      <td>12.391444</td>\n",
       "    </tr>\n",
       "    <tr>\n",
       "      <th>min</th>\n",
       "      <td>17.000000</td>\n",
       "      <td>1.228500e+04</td>\n",
       "      <td>1.000000</td>\n",
       "      <td>0.000000</td>\n",
       "      <td>0.000000</td>\n",
       "      <td>1.000000</td>\n",
       "    </tr>\n",
       "    <tr>\n",
       "      <th>25%</th>\n",
       "      <td>28.000000</td>\n",
       "      <td>1.175505e+05</td>\n",
       "      <td>9.000000</td>\n",
       "      <td>0.000000</td>\n",
       "      <td>0.000000</td>\n",
       "      <td>40.000000</td>\n",
       "    </tr>\n",
       "    <tr>\n",
       "      <th>50%</th>\n",
       "      <td>37.000000</td>\n",
       "      <td>1.781445e+05</td>\n",
       "      <td>10.000000</td>\n",
       "      <td>0.000000</td>\n",
       "      <td>0.000000</td>\n",
       "      <td>40.000000</td>\n",
       "    </tr>\n",
       "    <tr>\n",
       "      <th>75%</th>\n",
       "      <td>48.000000</td>\n",
       "      <td>2.376420e+05</td>\n",
       "      <td>12.000000</td>\n",
       "      <td>0.000000</td>\n",
       "      <td>0.000000</td>\n",
       "      <td>45.000000</td>\n",
       "    </tr>\n",
       "    <tr>\n",
       "      <th>max</th>\n",
       "      <td>90.000000</td>\n",
       "      <td>1.490400e+06</td>\n",
       "      <td>16.000000</td>\n",
       "      <td>99999.000000</td>\n",
       "      <td>4356.000000</td>\n",
       "      <td>99.000000</td>\n",
       "    </tr>\n",
       "  </tbody>\n",
       "</table>\n",
       "</div>"
      ],
      "text/plain": [
       "                age        fnlwgt  educational-num  capital-gain  \\\n",
       "count  48842.000000  4.884200e+04     48842.000000  48842.000000   \n",
       "mean      38.643585  1.896641e+05        10.078089   1079.067626   \n",
       "std       13.710510  1.056040e+05         2.570973   7452.019058   \n",
       "min       17.000000  1.228500e+04         1.000000      0.000000   \n",
       "25%       28.000000  1.175505e+05         9.000000      0.000000   \n",
       "50%       37.000000  1.781445e+05        10.000000      0.000000   \n",
       "75%       48.000000  2.376420e+05        12.000000      0.000000   \n",
       "max       90.000000  1.490400e+06        16.000000  99999.000000   \n",
       "\n",
       "       capital-loss  hours-per-week  \n",
       "count  48842.000000    48842.000000  \n",
       "mean      87.502314       40.422382  \n",
       "std      403.004552       12.391444  \n",
       "min        0.000000        1.000000  \n",
       "25%        0.000000       40.000000  \n",
       "50%        0.000000       40.000000  \n",
       "75%        0.000000       45.000000  \n",
       "max     4356.000000       99.000000  "
      ]
     },
     "execution_count": 6,
     "metadata": {},
     "output_type": "execute_result"
    }
   ],
   "source": [
    "print(\"data.describe() = \\n\" )\n",
    "data.describe()"
   ]
  },
  {
   "cell_type": "code",
   "execution_count": 7,
   "metadata": {
    "id": "XeTsEd7GmsEd"
   },
   "outputs": [
    {
     "name": "stdout",
     "output_type": "stream",
     "text": [
      "data.describe(include='object') = \n",
      "\n"
     ]
    },
    {
     "data": {
      "text/html": [
       "<div>\n",
       "<style scoped>\n",
       "    .dataframe tbody tr th:only-of-type {\n",
       "        vertical-align: middle;\n",
       "    }\n",
       "\n",
       "    .dataframe tbody tr th {\n",
       "        vertical-align: top;\n",
       "    }\n",
       "\n",
       "    .dataframe thead th {\n",
       "        text-align: right;\n",
       "    }\n",
       "</style>\n",
       "<table border=\"1\" class=\"dataframe\">\n",
       "  <thead>\n",
       "    <tr style=\"text-align: right;\">\n",
       "      <th></th>\n",
       "      <th>workclass</th>\n",
       "      <th>education</th>\n",
       "      <th>marital-status</th>\n",
       "      <th>occupation</th>\n",
       "      <th>relationship</th>\n",
       "      <th>race</th>\n",
       "      <th>gender</th>\n",
       "      <th>native-country</th>\n",
       "      <th>income</th>\n",
       "    </tr>\n",
       "  </thead>\n",
       "  <tbody>\n",
       "    <tr>\n",
       "      <th>count</th>\n",
       "      <td>48842</td>\n",
       "      <td>48842</td>\n",
       "      <td>48842</td>\n",
       "      <td>48842</td>\n",
       "      <td>48842</td>\n",
       "      <td>48842</td>\n",
       "      <td>48842</td>\n",
       "      <td>48842</td>\n",
       "      <td>48842</td>\n",
       "    </tr>\n",
       "    <tr>\n",
       "      <th>unique</th>\n",
       "      <td>9</td>\n",
       "      <td>16</td>\n",
       "      <td>7</td>\n",
       "      <td>15</td>\n",
       "      <td>6</td>\n",
       "      <td>5</td>\n",
       "      <td>2</td>\n",
       "      <td>42</td>\n",
       "      <td>2</td>\n",
       "    </tr>\n",
       "    <tr>\n",
       "      <th>top</th>\n",
       "      <td>Private</td>\n",
       "      <td>HS-grad</td>\n",
       "      <td>Married-civ-spouse</td>\n",
       "      <td>Prof-specialty</td>\n",
       "      <td>Husband</td>\n",
       "      <td>White</td>\n",
       "      <td>Male</td>\n",
       "      <td>United-States</td>\n",
       "      <td>&lt;=50K</td>\n",
       "    </tr>\n",
       "    <tr>\n",
       "      <th>freq</th>\n",
       "      <td>33906</td>\n",
       "      <td>15784</td>\n",
       "      <td>22379</td>\n",
       "      <td>6172</td>\n",
       "      <td>19716</td>\n",
       "      <td>41762</td>\n",
       "      <td>32650</td>\n",
       "      <td>43832</td>\n",
       "      <td>37155</td>\n",
       "    </tr>\n",
       "  </tbody>\n",
       "</table>\n",
       "</div>"
      ],
      "text/plain": [
       "       workclass education      marital-status      occupation relationship  \\\n",
       "count      48842     48842               48842           48842        48842   \n",
       "unique         9        16                   7              15            6   \n",
       "top      Private   HS-grad  Married-civ-spouse  Prof-specialty      Husband   \n",
       "freq       33906     15784               22379            6172        19716   \n",
       "\n",
       "         race gender native-country income  \n",
       "count   48842  48842          48842  48842  \n",
       "unique      5      2             42      2  \n",
       "top     White   Male  United-States  <=50K  \n",
       "freq    41762  32650          43832  37155  "
      ]
     },
     "execution_count": 7,
     "metadata": {},
     "output_type": "execute_result"
    }
   ],
   "source": [
    "print(\"data.describe(include='object') = \\n\" )\n",
    "data.describe(include='object')"
   ]
  },
  {
   "cell_type": "code",
   "execution_count": 8,
   "metadata": {
    "id": "fv3cijz2mr5U"
   },
   "outputs": [
    {
     "name": "stdout",
     "output_type": "stream",
     "text": [
      "data.income.unique() = \n",
      "\n"
     ]
    },
    {
     "data": {
      "text/plain": [
       "array(['<=50K', '>50K'], dtype=object)"
      ]
     },
     "execution_count": 8,
     "metadata": {},
     "output_type": "execute_result"
    }
   ],
   "source": [
    "print(\"data.income.unique() = \\n\" )\n",
    "data.income.unique()"
   ]
  },
  {
   "cell_type": "code",
   "execution_count": 9,
   "metadata": {
    "id": "TgVYC5zomrq1"
   },
   "outputs": [
    {
     "data": {
      "image/png": "[encoded data removed]",
      "text/plain": [
       "<Figure size 640x480 with 1 Axes>"
      ]
     },
     "metadata": {},
     "output_type": "display_data"
    }
   ],
   "source": [
    "#data.income=data.income.replace(['<=50K', '>50K'],[0,1])\n",
    "sns.countplot(data=data, x=\"income\")\n",
    "plt.show()"
   ]
  },
  {
   "cell_type": "markdown",
   "metadata": {
    "id": "ZDjeBVoVuDdz"
   },
   "source": [
    "#Feature Analysis and Vizualization"
   ]
  },
  {
   "cell_type": "markdown",
   "metadata": {
    "id": "o6bEE4hxujjl"
   },
   "source": [
    "##Vizualization-01: Income vs Age"
   ]
  },
  {
   "cell_type": "code",
   "execution_count": 10,
   "metadata": {
    "colab": {
     "base_uri": "https://localhost:8080/"
    },
    "id": "xbqGxiP6t_wj",
    "outputId": "dade61c5-d098-4b44-8d92-50076696c347"
   },
   "outputs": [
    {
     "name": "stdout",
     "output_type": "stream",
     "text": [
      "data.age.unique() = \n",
      " [25 38 28 44 18 34 29 63 24 55 65 36 26 58 48 43 20 37 40 72 45 22 23 54\n",
      " 32 46 56 17 39 52 21 42 33 30 47 41 19 69 50 31 59 49 51 27 57 61 64 79\n",
      " 73 53 77 80 62 35 68 66 75 60 67 71 70 90 81 74 78 82 83 85 76 84 89 88\n",
      " 87 86]\n"
     ]
    }
   ],
   "source": [
    "print(\"data.age.unique() = \\n\", data.age.unique())"
   ]
  },
  {
   "cell_type": "code",
   "execution_count": 11,
   "metadata": {
    "id": "Afo6jgN8uIab"
   },
   "outputs": [
    {
     "data": {
      "image/png": "[encoded data removed]",
      "text/plain": [
       "<Figure size 640x480 with 1 Axes>"
      ]
     },
     "metadata": {},
     "output_type": "display_data"
    }
   ],
   "source": [
    "#sns.boxplot(data.income, data.age)\n",
    "sns.boxplot(x=\"income\", y=\"age\", data=data)\n",
    "plt.show()"
   ]
  },
  {
   "cell_type": "markdown",
   "metadata": {
    "id": "igb0pF_juzgj"
   },
   "source": [
    "##Vizualization-02:  Income vs fnlwgt"
   ]
  },
  {
   "cell_type": "code",
   "execution_count": 12,
   "metadata": {
    "id": "9QMiuX_7uqh9"
   },
   "outputs": [
    {
     "data": {
      "image/png": "[encoded data removed]",
      "text/plain": [
       "<Figure size 640x480 with 1 Axes>"
      ]
     },
     "metadata": {},
     "output_type": "display_data"
    }
   ],
   "source": [
    "#sns.boxplot(data.income,data['fnlwgt'])\n",
    "sns.boxplot(x=\"income\", y=\"fnlwgt\", data=data)\n",
    "plt.show()"
   ]
  },
  {
   "cell_type": "markdown",
   "metadata": {
    "id": "8e-zzY8Uu7fz"
   },
   "source": [
    "##Vizualization-03:  Income vs educational-num"
   ]
  },
  {
   "cell_type": "code",
   "execution_count": 13,
   "metadata": {
    "id": "VwaC58mJu5Mi"
   },
   "outputs": [
    {
     "data": {
      "image/png": "[encoded data removed]",
      "text/plain": [
       "<Figure size 640x480 with 1 Axes>"
      ]
     },
     "metadata": {},
     "output_type": "display_data"
    }
   ],
   "source": [
    "#sns.boxplot(data.income,data['educational-num'])\n",
    "sns.boxplot(x=\"income\", y=\"educational-num\", data=data)\n",
    "plt.show()"
   ]
  },
  {
   "cell_type": "markdown",
   "metadata": {
    "id": "F3_LYtFUu_3j"
   },
   "source": [
    "##Vizualization-04:  Income vs capital-gain"
   ]
  },
  {
   "cell_type": "code",
   "execution_count": 14,
   "metadata": {
    "id": "C_H6U4JxvCtT"
   },
   "outputs": [
    {
     "data": {
      "image/png": "[encoded data removed]",
      "text/plain": [
       "<Figure size 640x480 with 1 Axes>"
      ]
     },
     "metadata": {},
     "output_type": "display_data"
    }
   ],
   "source": [
    "#sns.boxplot(data.income,data['capital-gain'])\n",
    "sns.boxplot(x=\"income\", y=\"capital-gain\", data=data)\n",
    "plt.show()"
   ]
  },
  {
   "cell_type": "markdown",
   "metadata": {
    "id": "tL9JOpNevGpU"
   },
   "source": [
    "##Vizualization-05:  Income vs capital-loss"
   ]
  },
  {
   "cell_type": "code",
   "execution_count": 15,
   "metadata": {
    "id": "jTdVet9HvJjM"
   },
   "outputs": [
    {
     "data": {
      "image/png": "[encoded data removed]",
      "text/plain": [
       "<Figure size 640x480 with 1 Axes>"
      ]
     },
     "metadata": {},
     "output_type": "display_data"
    }
   ],
   "source": [
    "#sns.boxplot(data.income,data['capital-loss'])\n",
    "sns.boxplot(x=\"income\", y=\"capital-loss\", data=data)\n",
    "plt.show()"
   ]
  },
  {
   "cell_type": "markdown",
   "metadata": {
    "id": "5KnE1Q9evLmq"
   },
   "source": [
    "##Vizualization-06:  Income vs capital-loss"
   ]
  },
  {
   "cell_type": "code",
   "execution_count": 16,
   "metadata": {
    "id": "aR8uTM8FvOW6"
   },
   "outputs": [
    {
     "data": {
      "image/png": "[encoded data removed]",
      "text/plain": [
       "<Figure size 640x480 with 1 Axes>"
      ]
     },
     "metadata": {},
     "output_type": "display_data"
    }
   ],
   "source": [
    "#sns.boxplot(data.income,data['capital-loss'])\n",
    "sns.boxplot(x=\"income\", y=\"capital-loss\", data=data)\n",
    "plt.show()"
   ]
  },
  {
   "cell_type": "markdown",
   "metadata": {
    "id": "EESJP-hCvSST"
   },
   "source": [
    "##Vizualization-07:  Income vs hours-per-week"
   ]
  },
  {
   "cell_type": "code",
   "execution_count": 17,
   "metadata": {
    "id": "NmA8pPG7vU1L"
   },
   "outputs": [
    {
     "data": {
      "image/png": "[encoded data removed]",
      "text/plain": [
       "<Figure size 640x480 with 1 Axes>"
      ]
     },
     "metadata": {},
     "output_type": "display_data"
    }
   ],
   "source": [
    "#sns.boxplot(data.income,data['hours-per-week'])\n",
    "sns.boxplot(x=\"income\", y=\"hours-per-week\", data=data)\n",
    "plt.show()"
   ]
  },
  {
   "cell_type": "markdown",
   "metadata": {
    "id": "2N8_RxNTvXt7"
   },
   "source": [
    "##Print the details for missing values"
   ]
  },
  {
   "cell_type": "code",
   "execution_count": 18,
   "metadata": {
    "id": "WjdOi1H6vd0W"
   },
   "outputs": [
    {
     "data": {
      "text/plain": [
       "age                0\n",
       "workclass          0\n",
       "fnlwgt             0\n",
       "education          0\n",
       "educational-num    0\n",
       "marital-status     0\n",
       "occupation         0\n",
       "relationship       0\n",
       "race               0\n",
       "gender             0\n",
       "capital-gain       0\n",
       "capital-loss       0\n",
       "hours-per-week     0\n",
       "native-country     0\n",
       "income             0\n",
       "dtype: int64"
      ]
     },
     "execution_count": 18,
     "metadata": {},
     "output_type": "execute_result"
    }
   ],
   "source": [
    "data.isnull().sum()"
   ]
  },
  {
   "cell_type": "markdown",
   "metadata": {
    "id": "aCoIsaQIvkhE"
   },
   "source": [
    "##Remove the missing values if any"
   ]
  },
  {
   "cell_type": "code",
   "execution_count": 19,
   "metadata": {
    "id": "--_DI_bSvikD"
   },
   "outputs": [],
   "source": [
    "data=data.dropna()"
   ]
  },
  {
   "cell_type": "markdown",
   "metadata": {
    "id": "mQxd-CYzvr9b"
   },
   "source": [
    "##Replace the income class with numeric values\n"
   ]
  },
  {
   "cell_type": "code",
   "execution_count": 20,
   "metadata": {
    "id": "NuZDTuRGv3ua"
   },
   "outputs": [],
   "source": [
    "#a) Replace \"<=50K\" with  0\n",
    "#b) Replace \">50K\"  with  1\n",
    "\n",
    "data.income=data.income.replace(['<=50K', '>50K'],[0,1])"
   ]
  },
  {
   "cell_type": "markdown",
   "metadata": {
    "id": "9Vyuh25jv_7y"
   },
   "source": [
    "##Vizualization-08: Print correlation matrix via heatmap"
   ]
  },
  {
   "cell_type": "code",
   "execution_count": 21,
   "metadata": {
    "id": "xcmjpKCvwBRT"
   },
   "outputs": [
    {
     "name": "stderr",
     "output_type": "stream",
     "text": [
      "C:\\Users\\admin\\AppData\\Local\\Temp\\ipykernel_5304\\3618765848.py:2: FutureWarning: The default value of numeric_only in DataFrame.corr is deprecated. In a future version, it will default to False. Select only valid columns or specify the value of numeric_only to silence this warning.\n",
      "  sns.heatmap(data.corr(),annot=True,cmap='Blues')\n"
     ]
    },
    {
     "data": {
      "image/png": "[encoded data removed]",
      "text/plain": [
       "<Figure size 700x600 with 2 Axes>"
      ]
     },
     "metadata": {},
     "output_type": "display_data"
    }
   ],
   "source": [
    "plt.figure(figsize=(7,6))\n",
    "sns.heatmap(data.corr(),annot=True,cmap='Blues')\n",
    "plt.show()"
   ]
  },
  {
   "cell_type": "markdown",
   "metadata": {
    "id": "ST-6NEsDwJAK"
   },
   "source": [
    "##Vizualization-09: workclass vs income"
   ]
  },
  {
   "cell_type": "code",
   "execution_count": 22,
   "metadata": {
    "colab": {
     "base_uri": "https://localhost:8080/"
    },
    "id": "wb1VMpl5wKjc",
    "outputId": "ea4ab96b-f4d8-4f75-9d4b-3fe6eaf9e09a"
   },
   "outputs": [
    {
     "name": "stdout",
     "output_type": "stream",
     "text": [
      "data.workclass.unique() = \n",
      " ['Private' 'Local-gov' '?' 'Self-emp-not-inc' 'Federal-gov' 'State-gov'\n",
      " 'Self-emp-inc' 'Without-pay' 'Never-worked']\n"
     ]
    }
   ],
   "source": [
    "#print unique values in the column \"workclass\"\n",
    "print(\"data.workclass.unique() = \\n\", data.workclass.unique() )"
   ]
  },
  {
   "cell_type": "code",
   "execution_count": 23,
   "metadata": {
    "id": "Jee1tHN9wTtD"
   },
   "outputs": [
    {
     "data": {
      "image/png": "[encoded data removed]",
      "text/plain": [
       "<Figure size 1500x700 with 1 Axes>"
      ]
     },
     "metadata": {},
     "output_type": "display_data"
    }
   ],
   "source": [
    "plt.figure(figsize=(15,7))\n",
    "ax=sns.countplot(data=data, x=\"workclass\", hue=data.income)\n",
    "plt.legend(['<=50K', '>50K'])\n",
    "plt.show()"
   ]
  },
  {
   "cell_type": "markdown",
   "metadata": {
    "id": "9apFoIKHwjsr"
   },
   "source": [
    "##Vizualization-10: education vs income"
   ]
  },
  {
   "cell_type": "code",
   "execution_count": 24,
   "metadata": {
    "id": "xyd0U0Hqwn6N"
   },
   "outputs": [
    {
     "name": "stdout",
     "output_type": "stream",
     "text": [
      "data.education.unique() =\n",
      " ['11th' 'HS-grad' 'Assoc-acdm' 'Some-college' '10th' 'Prof-school'\n",
      " '7th-8th' 'Bachelors' 'Masters' 'Doctorate' '5th-6th' 'Assoc-voc' '9th'\n",
      " '12th' '1st-4th' 'Preschool']\n"
     ]
    }
   ],
   "source": [
    "#print unique values in the column \"education\"\n",
    "print(\"data.education.unique() =\\n\",  data.education.unique() )"
   ]
  },
  {
   "cell_type": "code",
   "execution_count": 25,
   "metadata": {
    "colab": {
     "base_uri": "https://localhost:8080/",
     "height": 621
    },
    "id": "yi34Jopwwq4L",
    "outputId": "41534968-2d3c-47a0-920b-0c241063d09a"
   },
   "outputs": [
    {
     "data": {
      "image/png": "[encoded data removed]",
      "text/plain": [
       "<Figure size 1500x700 with 1 Axes>"
      ]
     },
     "metadata": {},
     "output_type": "display_data"
    }
   ],
   "source": [
    "plt.figure(figsize=(15,7))\n",
    "ax=sns.countplot(data=data, x=\"education\", hue=data.income)\n",
    "ax.set_xticklabels(ax.get_xticklabels(),rotation=60)\n",
    "plt.legend(['<=50K', '>50K'])\n",
    "plt.show()"
   ]
  },
  {
   "cell_type": "markdown",
   "metadata": {
    "id": "Zacao4sKwwFT"
   },
   "source": [
    "##Vizualization-11: marital-status vs income"
   ]
  },
  {
   "cell_type": "code",
   "execution_count": 26,
   "metadata": {
    "colab": {
     "base_uri": "https://localhost:8080/"
    },
    "id": "C_bESwEpwxkj",
    "outputId": "806805bf-1858-45b7-a943-db65a5ea8e30"
   },
   "outputs": [
    {
     "name": "stdout",
     "output_type": "stream",
     "text": [
      "data['marital-status'].unique() =\n",
      " ['Never-married' 'Married-civ-spouse' 'Widowed' 'Divorced' 'Separated'\n",
      " 'Married-spouse-absent' 'Married-AF-spouse']\n"
     ]
    }
   ],
   "source": [
    "#print unique values in the column \"marital-status\"\n",
    "print(\"data['marital-status'].unique() =\\n\",  data['marital-status'].unique() )"
   ]
  },
  {
   "cell_type": "code",
   "execution_count": null,
   "metadata": {
    "id": "wqM9rwuow_mz"
   },
   "outputs": [],
   "source": [
    "plt.figure(figsize=(15,7))\n",
    "ax=sns.countplot(data=data, x = data['marital-status'], hue=data.income)\n",
    "plt.legend(['<=50K', '>50K'])\n",
    "plt.show()"
   ]
  },
  {
   "cell_type": "markdown",
   "metadata": {
    "id": "omO4aCgbxLnb"
   },
   "source": [
    "##Vizualization-12: occupation vs income"
   ]
  },
  {
   "cell_type": "code",
   "execution_count": null,
   "metadata": {
    "id": "0tFpK0PQxNGL"
   },
   "outputs": [],
   "source": [
    "#print unique values in the column \"occupation\"\n",
    "print(\"data.occupation.unique() =\\n\",  data.occupation.unique() )"
   ]
  },
  {
   "cell_type": "code",
   "execution_count": null,
   "metadata": {
    "id": "rmFDTaFYxPS7"
   },
   "outputs": [],
   "source": [
    "plt.figure(figsize=(15,7))\n",
    "ax=sns.countplot(data=data, x=\"occupation\", hue=data.income)\n",
    "ax.set_xticklabels(ax.get_xticklabels(),rotation=60)\n",
    "plt.legend(['<=50K', '>50K'])\n",
    "plt.show()"
   ]
  },
  {
   "cell_type": "markdown",
   "metadata": {
    "id": "XeNMz1MhxftJ"
   },
   "source": [
    "##Vizualization-13: relationship vs income"
   ]
  },
  {
   "cell_type": "code",
   "execution_count": null,
   "metadata": {
    "id": "lvYfM6brxg82"
   },
   "outputs": [],
   "source": [
    "#print unique values in the column \"relationship\"\n",
    "print(\"data.relationship.unique() =\\n\")\n",
    "print(data.relationship.unique())"
   ]
  },
  {
   "cell_type": "code",
   "execution_count": null,
   "metadata": {
    "id": "nk9f95cex-de"
   },
   "outputs": [],
   "source": [
    "plt.figure(figsize=(15,7))\n",
    "ax=sns.countplot(data=data, x=\"relationship\", hue=data.income)\n",
    "plt.legend(['<=50K', '>50K'])\n",
    "plt.show()"
   ]
  },
  {
   "cell_type": "markdown",
   "metadata": {
    "id": "_6uRuYt1yJ6N"
   },
   "source": [
    "##Vizualization-14: gender vs income"
   ]
  },
  {
   "cell_type": "code",
   "execution_count": null,
   "metadata": {
    "colab": {
     "base_uri": "https://localhost:8080/"
    },
    "id": "Mm0dpOkfyLNb",
    "outputId": "aa4902a1-2f14-4331-d169-ee7d4069f390"
   },
   "outputs": [],
   "source": [
    "#print unique values in the column \"gender\"\n",
    "print(\"data.gender.unique() =\\n\",  data.gender.unique() )"
   ]
  },
  {
   "cell_type": "code",
   "execution_count": null,
   "metadata": {
    "id": "8j-lhHtiyNDz"
   },
   "outputs": [],
   "source": [
    "plt.figure(figsize=(15,7))\n",
    "ax=sns.countplot(data=data, x=\"gender\", hue=data.income)\n",
    "plt.legend(['<=50K', '>50K'])\n",
    "plt.show()"
   ]
  },
  {
   "cell_type": "markdown",
   "metadata": {
    "id": "hThI5vYUyX9c"
   },
   "source": [
    "##Vizualization-15: native-country vs income"
   ]
  },
  {
   "cell_type": "code",
   "execution_count": null,
   "metadata": {
    "colab": {
     "base_uri": "https://localhost:8080/"
    },
    "id": "Swv69pfEyZLU",
    "outputId": "1974caa4-2583-44a8-daa7-4661931fb09a"
   },
   "outputs": [],
   "source": [
    "#print unique values in the column \"native-country\"\n",
    "print(\"data['native-country'].unique() =\\n\",  data['native-country'].unique())"
   ]
  },
  {
   "cell_type": "code",
   "execution_count": null,
   "metadata": {
    "id": "3SQQaU3vycFL"
   },
   "outputs": [],
   "source": [
    "plt.figure(figsize=(15,7))\n",
    "ax=sns.countplot(data=data, x='native-country', hue=data.income)\n",
    "ax.set_xticklabels(ax.get_xticklabels(),rotation=60)\n",
    "plt.legend(['<=50K', '>50K'])\n",
    "plt.show()"
   ]
  },
  {
   "cell_type": "markdown",
   "metadata": {
    "id": "rJInWZExyuGr"
   },
   "source": [
    "##Data Preprocessing"
   ]
  },
  {
   "cell_type": "code",
   "execution_count": null,
   "metadata": {
    "id": "GTMERLK0yxyr"
   },
   "outputs": [],
   "source": [
    "#Split the data in x and y\n",
    "\n",
    "x=data.drop(['income'],axis=1)\n",
    "y=data.income"
   ]
  },
  {
   "cell_type": "code",
   "execution_count": null,
   "metadata": {
    "id": "M3UcBLn2y6Qc"
   },
   "outputs": [],
   "source": [
    "#print first 10 rows of x\n",
    "x.head(10)"
   ]
  },
  {
   "cell_type": "markdown",
   "metadata": {
    "id": "zskFGhpDzGvF"
   },
   "source": [
    "##Categorical data will converted into OneHotEncoding format"
   ]
  },
  {
   "cell_type": "code",
   "execution_count": null,
   "metadata": {
    "id": "HiYlYKoPzDgt"
   },
   "outputs": [],
   "source": [
    "x=pd.get_dummies(x)"
   ]
  },
  {
   "cell_type": "code",
   "execution_count": null,
   "metadata": {
    "id": "9NnANHmRzMe2"
   },
   "outputs": [],
   "source": [
    "#Print the data after conversioon into OneHotEncoding\n",
    "x.head(10)"
   ]
  },
  {
   "cell_type": "markdown",
   "metadata": {
    "id": "_Gq3jZsuzaMV"
   },
   "source": [
    "##print the list of column names havin numerical values"
   ]
  },
  {
   "cell_type": "code",
   "execution_count": null,
   "metadata": {
    "colab": {
     "base_uri": "https://localhost:8080/"
    },
    "id": "SUzF-xDDzbs9",
    "outputId": "49dd3802-9624-4960-a12f-d7b3179be681"
   },
   "outputs": [],
   "source": [
    "numericalcols=list(data.select_dtypes(exclude='object').columns)\n",
    "print( \"numericalcols = \", numericalcols)"
   ]
  },
  {
   "cell_type": "markdown",
   "metadata": {
    "id": "XasYRg4aziCn"
   },
   "source": [
    "##To remove the last income column name from the list"
   ]
  },
  {
   "cell_type": "code",
   "execution_count": null,
   "metadata": {
    "colab": {
     "base_uri": "https://localhost:8080/"
    },
    "id": "n2tPlplVzfob",
    "outputId": "8d0a051f-a650-43e7-e430-a988333255d7"
   },
   "outputs": [],
   "source": [
    "numericalcols.pop()\n",
    "print( \"numericalcols = \", numericalcols)"
   ]
  },
  {
   "cell_type": "markdown",
   "metadata": {
    "id": "z-Z-gVlSzv1c"
   },
   "source": [
    "##Standardized the values of  numerical columns"
   ]
  },
  {
   "cell_type": "code",
   "execution_count": null,
   "metadata": {
    "id": "-1IBZtbnzxFM"
   },
   "outputs": [],
   "source": [
    "from sklearn.preprocessing import StandardScaler\n",
    "scaler=StandardScaler()\n",
    "x[numericalcols]=scaler.fit_transform(x[numericalcols])"
   ]
  },
  {
   "cell_type": "code",
   "execution_count": null,
   "metadata": {
    "id": "aPrErW8_z5AT"
   },
   "outputs": [],
   "source": [
    "print(\"After StandardScaler: x.head() = \\n\")\n",
    "x.head()"
   ]
  },
  {
   "cell_type": "markdown",
   "metadata": {
    "id": "h_NmC5eJz0TT"
   },
   "source": [
    "##Data Splitting into 70% of training data and 30% of testing data"
   ]
  },
  {
   "cell_type": "code",
   "execution_count": null,
   "metadata": {
    "id": "ufdljXO70KM9"
   },
   "outputs": [],
   "source": [
    "x_train,x_test,y_trian,y_test=train_test_split(x,y,random_state=7,test_size=0.3)"
   ]
  },
  {
   "cell_type": "markdown",
   "metadata": {
    "id": "PGHAUior0OpW"
   },
   "source": [
    "##Train the model-01: LogisticRegression Algoritmns"
   ]
  },
  {
   "cell_type": "code",
   "execution_count": null,
   "metadata": {
    "id": "fd9zTVN90QOe"
   },
   "outputs": [],
   "source": [
    "model=LogisticRegression()\n",
    "model.fit(x_train,y_trian)"
   ]
  },
  {
   "cell_type": "markdown",
   "metadata": {
    "id": "rD8RAAiz0b9t"
   },
   "source": [
    "###First Method to print the accuracy of LogisticRegression Algorithm"
   ]
  },
  {
   "cell_type": "code",
   "execution_count": null,
   "metadata": {
    "colab": {
     "base_uri": "https://localhost:8080/"
    },
    "id": "qqZ6gY8J0XFF",
    "outputId": "c05960a6-f40c-4040-8f02-64b32247a1d8"
   },
   "outputs": [],
   "source": [
    "\n",
    "accuracy_result =  model.score(x_test,y_test)\n",
    "print(\"Accuracy of LogisticRegression : \",  accuracy_result )"
   ]
  },
  {
   "cell_type": "markdown",
   "metadata": {
    "id": "VZx0Ajin0h9t"
   },
   "source": [
    "###Second Method to print the accuracy of LogisticRegression Algorithm"
   ]
  },
  {
   "cell_type": "code",
   "execution_count": null,
   "metadata": {
    "colab": {
     "base_uri": "https://localhost:8080/"
    },
    "id": "LAaul3-x0lSU",
    "outputId": "05c09e80-5f94-4e3f-a7bf-c749ead83dc8"
   },
   "outputs": [],
   "source": [
    "y_predictL=model.predict(x_test)\n",
    "accuracy_result = accuracy_score(y_test,y_predictL)\n",
    "print(\"Accuracy of LogisticRegression : \",  accuracy_result )"
   ]
  },
  {
   "cell_type": "markdown",
   "metadata": {
    "id": "9DU-6fQ50yIc"
   },
   "source": [
    "###Vizualization-16: Performance of LogisticRegression"
   ]
  },
  {
   "cell_type": "code",
   "execution_count": null,
   "metadata": {
    "id": "ZHHt5X_X00uk"
   },
   "outputs": [],
   "source": [
    "ax=sns.distplot(y_test,hist=False,label='Actual Values')\n",
    "ax=sns.distplot(y_predictL,hist=False,label='Predicted Values')\n",
    "ax.set_title('LogisticRegression')\n",
    "plt.legend()\n",
    "plt.show()"
   ]
  },
  {
   "cell_type": "markdown",
   "metadata": {
    "id": "gLdN5ibd06Cb"
   },
   "source": [
    "###Print the confusion_matrix for prediction accuracy of LogicsticRegression"
   ]
  },
  {
   "cell_type": "code",
   "execution_count": null,
   "metadata": {
    "colab": {
     "base_uri": "https://localhost:8080/"
    },
    "id": "fS8eDNU309Ak",
    "outputId": "1f07123a-5651-4783-a51f-9a54bf39da2d"
   },
   "outputs": [],
   "source": [
    "matrix = confusion_matrix(y_test,y_predictL)\n",
    "print(\"confusion_matrix for prediction accuracy of LogicsticRegression = \\n\")\n",
    "matrix"
   ]
  },
  {
   "cell_type": "markdown",
   "metadata": {
    "id": "rvKOt4Xq1D-D"
   },
   "source": [
    "###Vizualization-17: heatmap of confusion_matrix for LogicsticRegression"
   ]
  },
  {
   "cell_type": "code",
   "execution_count": null,
   "metadata": {
    "id": "96hkPdiy1FTu"
   },
   "outputs": [],
   "source": [
    "sns.heatmap(confusion_matrix(y_test,y_predictL), annot=True, cmap='Blues')\n",
    "plt.show()"
   ]
  },
  {
   "cell_type": "markdown",
   "metadata": {
    "id": "kKxvVV001mBV"
   },
   "source": [
    "##Train the model-02: SupportVectorClassifier Algoritmns"
   ]
  },
  {
   "cell_type": "code",
   "execution_count": null,
   "metadata": {
    "colab": {
     "base_uri": "https://localhost:8080/",
     "height": 74
    },
    "id": "y3snmbh31vHl",
    "outputId": "af95ab6d-31b3-4d84-86cf-066a6477c9a6"
   },
   "outputs": [],
   "source": [
    "model=SVC()\n",
    "model.fit(x_train,y_trian)"
   ]
  },
  {
   "cell_type": "markdown",
   "metadata": {
    "id": "29Ir026s10-d"
   },
   "source": [
    "###First Method to print the accuracy of SupportVectorClassifier Algorithm"
   ]
  },
  {
   "cell_type": "code",
   "execution_count": null,
   "metadata": {
    "colab": {
     "base_uri": "https://localhost:8080/"
    },
    "id": "vcEW62sc2Qe9",
    "outputId": "e3c40d9d-ea57-47c4-87f1-cd848cdced3b"
   },
   "outputs": [],
   "source": [
    "accuracy_result =  model.score(x_test,y_test)\n",
    "print(\"Accuracy of SupportVectorClassifier : \",  accuracy_result )"
   ]
  },
  {
   "cell_type": "markdown",
   "metadata": {
    "id": "W_1M3m6C2S2G"
   },
   "source": [
    "###Second Method to print the accuracy of SupportVectorClassifier Algorithm"
   ]
  },
  {
   "cell_type": "code",
   "execution_count": null,
   "metadata": {
    "colab": {
     "base_uri": "https://localhost:8080/"
    },
    "id": "DL-KC7Tc2W1l",
    "outputId": "24a6ccd8-8838-485e-ad3a-17df7d198782"
   },
   "outputs": [],
   "source": [
    "y_predicS=model.predict(x_test)\n",
    "accuracy_result = accuracy_score(y_test,y_predicS)\n",
    "print(\"Accuracy of SupportVectorClassifier : \",  accuracy_result )"
   ]
  },
  {
   "cell_type": "markdown",
   "metadata": {
    "id": "jsP7gmaG2up-"
   },
   "source": [
    "###Vizualization-18: Performance of SupportVectorClassifier"
   ]
  },
  {
   "cell_type": "code",
   "execution_count": null,
   "metadata": {
    "colab": {
     "base_uri": "https://localhost:8080/",
     "height": 854
    },
    "id": "69W5jn4w2tre",
    "outputId": "2eac3db2-95b5-4820-84cc-926aa63bc310"
   },
   "outputs": [],
   "source": [
    "ax=sns.distplot(y_test,hist=False,label='Actual Values')\n",
    "ax=sns.distplot(y_predicS,hist=False,label='Predicted Values')\n",
    "ax.set_title('SupportVectorClassifier')\n",
    "plt.legend()\n",
    "plt.show()"
   ]
  },
  {
   "cell_type": "markdown",
   "metadata": {
    "id": "BCY5qlQl3iPt"
   },
   "source": [
    "###Print the confusion_matrix for prediction accuracy of SupportVectorClassifier"
   ]
  },
  {
   "cell_type": "code",
   "execution_count": null,
   "metadata": {
    "colab": {
     "base_uri": "https://localhost:8080/"
    },
    "id": "iJkHLVfX3qoO",
    "outputId": "b1798090-3de1-49be-8884-f76eba1e5da8"
   },
   "outputs": [],
   "source": [
    "matrix = confusion_matrix(y_test,y_predictL)\n",
    "print(\"confusion_matrix for prediction accuracy of SupportVectorClassifier = \\n\")\n",
    "print(matrix)"
   ]
  },
  {
   "cell_type": "markdown",
   "metadata": {
    "id": "oteO25sZ3zGN"
   },
   "source": [
    "###Vizualization-19: heatmap of confusion_matrix for SupportVectorClassifier"
   ]
  },
  {
   "cell_type": "code",
   "execution_count": null,
   "metadata": {
    "id": "b4BkKXBl3wnX"
   },
   "outputs": [],
   "source": [
    "sns.heatmap(confusion_matrix(y_test,y_predicS),annot=True,cmap='Blues')\n",
    "plt.show()"
   ]
  }
 ],
 "metadata": {
  "colab": {
   "provenance": []
  },
  "kernelspec": {
   "display_name": "Python 3 (ipykernel)",
   "language": "python",
   "name": "python3"
  },
  "language_info": {
   "codemirror_mode": {
    "name": "ipython",
    "version": 3
   },
   "file_extension": ".py",
   "mimetype": "text/x-python",
   "name": "python",
   "nbconvert_exporter": "python",
   "pygments_lexer": "ipython3",
   "version": "3.10.9"
  }
 },
 "nbformat": 4,
 "nbformat_minor": 1
}
